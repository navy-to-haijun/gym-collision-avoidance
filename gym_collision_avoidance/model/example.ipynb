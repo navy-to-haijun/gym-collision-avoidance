{
 "cells": [
  {
   "cell_type": "code",
   "execution_count": 5,
   "metadata": {},
   "outputs": [],
   "source": [
    "import numpy as np\n",
    "# 随机返回一个[2,5)的整数\n",
    "angle = np.random.random() * np.pi * 2\n",
    "v_pref = 1.0\n",
    "circle_radius = 6\n",
    "px_noise = (np.random.random() - 0.5) * v_pref\n",
    "py_noise = (np.random.random() - 0.5) * v_pref\n",
    "px = circle_radius * np.cos(angle) + px_noise\n",
    "py = circle_radius * np.sin(angle) + py_noise\n",
    "vx = v_pref * np.cos(angle) \n",
    "vy = v_pref * np.sin(angle) \n",
    "gx = -px\n",
    "gy = -py"
   ]
  },
  {
   "cell_type": "code",
   "execution_count": null,
   "metadata": {},
   "outputs": [],
   "source": [
    "\n"
   ]
  },
  {
   "cell_type": "code",
   "execution_count": 6,
   "metadata": {},
   "outputs": [
    {
     "name": "stdout",
     "output_type": "stream",
     "text": [
      "agent num:1\n",
      "postion(0.20000000298023224, 0.0), vel(1.0, 0.0)\n"
     ]
    }
   ],
   "source": [
    "import rvo2\n",
    "import os\n",
    "import gym\n",
    "import numpy as np\n",
    "# 设置仿真环境\n",
    "sim = rvo2.PyRVOSimulator(timeStep = 0.2, neighborDist = 1.5,\n",
    "                          maxNeighbors = 5, timeHorizon = 1.5, \n",
    "                          timeHorizonObst = 2, radius = 0.4, maxSpeed = 2)\n",
    "# 设置agent位置\n",
    "n_agents = 1\n",
    "rvo_agents = [None]*n_agents\n",
    "for a in range(n_agents):\n",
    "    rvo_agents[a] = sim.addAgent((0,0))\n",
    "    sim.setAgentPrefVelocity(rvo_agents[a], (1,0))\n",
    "# 设置agent的期望速度\n",
    "print(\"agent num:{}\".format(sim.getNumAgents()))\n",
    "sim.doStep()\n",
    "print(\"postion{}, vel{}\".format(sim.getAgentPosition(rvo_agents[0]), sim.getAgentVelocity(rvo_agents[0])))\n"
   ]
  },
  {
   "cell_type": "code",
   "execution_count": 3,
   "metadata": {},
   "outputs": [],
   "source": []
  },
  {
   "cell_type": "code",
   "execution_count": 1,
   "metadata": {},
   "outputs": [],
   "source": [
    "import os\n",
    "import gym\n",
    "import numpy as np\n",
    "os.environ['GYM_CONFIG_PATH'] = \"config_test.py\"\n",
    "os.environ['GYM_CONFIG_CLASS'] = 'Train'\n",
    "gym.logger.set_level(40)\n",
    "\n",
    "from gym_collision_avoidance.envs import Config\n",
    "from gym_collision_avoidance.model import set_agents\n",
    "\n",
    "env = gym.make(\"CollisionAvoidance-v0\")\n",
    "agents = set_agents.generate_random_human_position()\n",
    "env.set_agents(agents)\n",
    "obs = env.reset()\n",
    "\n",
    "# 可视化位置\n",
    "\n",
    "# print(obs[0])\n",
    "\n",
    "# for key,value in obs.items():\n",
    "#     print(f\"key:{key}, value{value}\")\n"
   ]
  },
  {
   "cell_type": "code",
   "execution_count": 14,
   "metadata": {},
   "outputs": [
    {
     "data": {
      "image/png": "[encoded data removed]",
      "text/plain": [
       "<Figure size 640x480 with 1 Axes>"
      ]
     },
     "metadata": {},
     "output_type": "display_data"
    }
   ],
   "source": [
    "\n",
    "\n",
    "from gym_collision_avoidance.envs.util import find_nearest, rgba2rgb, makedirs\n",
    "import matplotlib.pyplot as plt\n",
    "# plt.xlim(-8,9)\n",
    "# plt.ylim(-8,9)\n",
    "\n",
    "agents = set_agents.generate_random_human_position(num_agents= 8, circle_radius= 10, min_dist= 3)\n",
    "\n",
    "plt_colors = []\n",
    "plt_colors.append([0.8500, 0.3250, 0.0980])  # orange\n",
    "plt_colors.append([0.0, 0.4470, 0.7410])  # blue\n",
    "plt_colors.append([0.4660, 0.6740, 0.1880])  # green\n",
    "plt_colors.append([0.4940, 0.1840, 0.5560])  # purple\n",
    "plt_colors.append([0.9290, 0.6940, 0.1250])  # yellow\n",
    "plt_colors.append([0.3010, 0.7450, 0.9330])  # cyan\n",
    "plt_colors.append([0.6350, 0.0780, 0.1840])  # chocolate\n",
    "\n",
    "pos = agents[0].get_agent_data('pos_global_frame')\n",
    "plt.plot(pos[0], pos[1], color=plt_colors[0], marker='*', markersize=20)\n",
    "for a in agents[1:]:\n",
    "    pos = a.get_agent_data('pos_global_frame')\n",
    "    plt.plot(pos[0], pos[1], color=plt_colors[0], marker='+', markersize=20)"
   ]
  },
  {
   "cell_type": "code",
   "execution_count": 12,
   "metadata": {},
   "outputs": [],
   "source": [
    "actions = {}\n",
    "actions[0] = np.array(2)\n",
    "obs, rewards, game_over, which_agents_done = env.step(actions)"
   ]
  },
  {
   "cell_type": "code",
   "execution_count": 49,
   "metadata": {},
   "outputs": [
    {
     "data": {
      "text/plain": [
       "<matplotlib.patches.Circle at 0x7f95c240dfd0>"
      ]
     },
     "execution_count": 49,
     "metadata": {},
     "output_type": "execute_result"
    },
    {
     "data": {
      "image/png": "[encoded data removed]",
      "text/plain": [
       "<Figure size 640x480 with 1 Axes>"
      ]
     },
     "metadata": {},
     "output_type": "display_data"
    }
   ],
   "source": [
    "\n",
    "from gym_collision_avoidance.envs.util import find_nearest, rgba2rgb, makedirs\n",
    "figure, ax = plt.subplots()\n",
    "import matplotlib.pyplot as plt\n",
    "plt.xlim(-8,9)\n",
    "plt.ylim(-8,9)\n",
    "\n",
    "plt_colors = []\n",
    "plt_colors.append([0.8500, 0.3250, 0.0980])  # orange\n",
    "plt_colors.append([0.0, 0.4470, 0.7410])  # blue\n",
    "plt_colors.append([0.4660, 0.6740, 0.1880])  # green\n",
    "plt_colors.append([0.4940, 0.1840, 0.5560])  # purple\n",
    "plt_colors.append([0.9290, 0.6940, 0.1250])  # yellow\n",
    "plt_colors.append([0.3010, 0.7450, 0.9330])  # cyan\n",
    "plt_colors.append([0.6350, 0.0780, 0.1840])  # chocolate\n",
    "\n",
    "a = agents[0]\n",
    "b = agents[0].global_state_history[:agents[0].step_num, 2]\n",
    "\n",
    "plt.plot(a, b, color=plt_colors[0],ls='-', linewidth=2)\n",
    "\n",
    "plt.plot(agents[0].global_state_history[0, 3],               # 目标位置\n",
    "                     agents[0].global_state_history[0, 4],\n",
    "                     color=plt_colors[0], marker='*', markersize=20)\n",
    "\n",
    "\n",
    "\n",
    "circle_spacing = 0.2\n",
    "circle_times = np.arange(0.0, agents[0].global_state_history[agents[0].step_num-1, 0], circle_spacing)\n",
    "_, circle_inds = find_nearest(agents[0].global_state_history[:agents[0].step_num, 0],circle_times)\n",
    "\n",
    "\n",
    "\n",
    "ax.add_patch(plt.Circle((0,0), 0.8, color='r', fill=False))\n"
   ]
  },
  {
   "cell_type": "code",
   "execution_count": 35,
   "metadata": {},
   "outputs": [
    {
     "data": {
      "text/plain": [
       "array([0.])"
      ]
     },
     "execution_count": 35,
     "metadata": {},
     "output_type": "execute_result"
    }
   ],
   "source": [
    "np.linspace(0, 3, 1)"
   ]
  },
  {
   "cell_type": "code",
   "execution_count": 5,
   "metadata": {},
   "outputs": [
    {
     "name": "stdout",
     "output_type": "stream",
     "text": [
      "0.0\n"
     ]
    }
   ],
   "source": [
    "\n",
    "pre_goal_postion = agents[0].get_agent_data(\"heading_ego_frame\")\n",
    "print(pre_goal_postion)\n",
    "agents[0].ego_pos_to_global_pos()"
   ]
  }
 ],
 "metadata": {
  "interpreter": {
   "hash": "4355cb3767e2eef021314e92b94ce600a9307d8313c591c42dad1888320a8d96"
  },
  "kernelspec": {
   "display_name": "Python 3.7.13 ('robot')",
   "language": "python",
   "name": "python3"
  },
  "language_info": {
   "codemirror_mode": {
    "name": "ipython",
    "version": 3
   },
   "file_extension": ".py",
   "mimetype": "text/x-python",
   "name": "python",
   "nbconvert_exporter": "python",
   "pygments_lexer": "ipython3",
   "version": "3.7.13"
  },
  "orig_nbformat": 4
 },
 "nbformat": 4,
 "nbformat_minor": 2
}
