{
 "cells": [
  {
   "cell_type": "code",
   "execution_count": 3,
   "metadata": {},
   "outputs": [],
   "source": [
    "import os\n",
    "import gym\n",
    "import numpy as np\n",
    "os.environ['GYM_CONFIG_PATH'] = \"config_test.py\"\n",
    "os.environ['GYM_CONFIG_CLASS'] = 'Train'\n",
    "gym.logger.set_level(40)\n",
    "\n",
    "from gym_collision_avoidance.envs import Config\n",
    "from gym_collision_avoidance.model import agents_test\n",
    "\n",
    "env = gym.make(\"CollisionAvoidance-v0\")\n",
    "agents = agents_test.get_agents_3()\n",
    "[agent.policy.initialize_network() for agent in agents if hasattr(agent.policy, 'initialize_network')]\n",
    "env.set_agents(agents)\n",
    "\n",
    "obs = env.reset()\n",
    "\n",
    "# print(obs[0])\n",
    "\n",
    "# for key,value in obs.items():\n",
    "#     print(f\"key:{key}, value{value}\")\n"
   ]
  },
  {
   "cell_type": "code",
   "execution_count": 12,
   "metadata": {},
   "outputs": [],
   "source": [
    "actions = {}\n",
    "actions[0] = np.array(2)\n",
    "obs, rewards, game_over, which_agents_done = env.step(actions)"
   ]
  },
  {
   "cell_type": "code",
   "execution_count": 49,
   "metadata": {},
   "outputs": [
    {
     "data": {
      "text/plain": [
       "<matplotlib.patches.Circle at 0x7f95c240dfd0>"
      ]
     },
     "execution_count": 49,
     "metadata": {},
     "output_type": "execute_result"
    },
    {
     "data": {
      "image/png": "[encoded data removed]",
      "text/plain": [
       "<Figure size 640x480 with 1 Axes>"
      ]
     },
     "metadata": {},
     "output_type": "display_data"
    }
   ],
   "source": [
    "import matplotlib.pyplot as plt\n",
    "from gym_collision_avoidance.envs.util import find_nearest, rgba2rgb, makedirs\n",
    "figure, ax = plt.subplots()\n",
    "\n",
    "plt.xlim(-8,9)\n",
    "plt.ylim(-8,9)\n",
    "\n",
    "\n",
    "plt_colors = []\n",
    "plt_colors.append([0.8500, 0.3250, 0.0980])  # orange\n",
    "plt_colors.append([0.0, 0.4470, 0.7410])  # blue\n",
    "plt_colors.append([0.4660, 0.6740, 0.1880])  # green\n",
    "plt_colors.append([0.4940, 0.1840, 0.5560])  # purple\n",
    "plt_colors.append([0.9290, 0.6940, 0.1250])  # yellow\n",
    "plt_colors.append([0.3010, 0.7450, 0.9330])  # cyan\n",
    "plt_colors.append([0.6350, 0.0780, 0.1840])  # chocolate\n",
    "\n",
    "a = agents[0].global_state_history[:agents[0].step_num, 1]  # 位置(全局坐标)\n",
    "b = agents[0].global_state_history[:agents[0].step_num, 2]\n",
    "\n",
    "plt.plot(a, b, color=plt_colors[0],ls='-', linewidth=2)\n",
    "\n",
    "plt.plot(agents[0].global_state_history[0, 3],               # 目标位置\n",
    "                     agents[0].global_state_history[0, 4],\n",
    "                     color=plt_colors[0], marker='*', markersize=20)\n",
    "\n",
    "\n",
    "\n",
    "circle_spacing = 0.2\n",
    "circle_times = np.arange(0.0, agents[0].global_state_history[agents[0].step_num-1, 0], circle_spacing)\n",
    "_, circle_inds = find_nearest(agents[0].global_state_history[:agents[0].step_num, 0],circle_times)\n",
    "\n",
    "\n",
    "\n",
    "ax.add_patch(plt.Circle((0,0), 0.8, color='r', fill=False))\n"
   ]
  },
  {
   "cell_type": "code",
   "execution_count": 35,
   "metadata": {},
   "outputs": [
    {
     "data": {
      "text/plain": [
       "array([0.])"
      ]
     },
     "execution_count": 35,
     "metadata": {},
     "output_type": "execute_result"
    }
   ],
   "source": [
    "np.linspace(0, 3, 1)"
   ]
  },
  {
   "cell_type": "code",
   "execution_count": 4,
   "metadata": {},
   "outputs": [
    {
     "name": "stdout",
     "output_type": "stream",
     "text": [
      "40.0\n"
     ]
    }
   ],
   "source": [
    "\n",
    "pre_goal_postion = agents[0].get_agent_data(\"heading_ego_frame\")\n",
    "print(pre_goal_postion)"
   ]
  }
 ],
 "metadata": {
  "interpreter": {
   "hash": "4355cb3767e2eef021314e92b94ce600a9307d8313c591c42dad1888320a8d96"
  },
  "kernelspec": {
   "display_name": "Python 3.7.13 ('robot')",
   "language": "python",
   "name": "python3"
  },
  "language_info": {
   "codemirror_mode": {
    "name": "ipython",
    "version": 3
   },
   "file_extension": ".py",
   "mimetype": "text/x-python",
   "name": "python",
   "nbconvert_exporter": "python",
   "pygments_lexer": "ipython3",
   "version": "3.7.13"
  },
  "orig_nbformat": 4
 },
 "nbformat": 4,
 "nbformat_minor": 2
}
