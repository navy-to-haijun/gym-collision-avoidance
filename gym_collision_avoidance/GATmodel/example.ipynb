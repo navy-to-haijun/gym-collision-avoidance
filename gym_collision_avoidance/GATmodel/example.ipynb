{
 "cells": [
  {
   "cell_type": "code",
   "execution_count": 1,
   "metadata": {},
   "outputs": [],
   "source": [
    "import os\n",
    "import gym\n",
    "import numpy as np\n",
    "# 仿真环境\n",
    "os.environ['GYM_CONFIG_PATH'] = \"emulation_config.py\"\n",
    "os.environ['GYM_CONFIG_CLASS'] = 'Train'\n",
    "gym.logger.set_level(40)\n",
    "import ppo_util\n",
    "\n",
    "env_name = \"CollisionAvoidance-v0\"\n",
    "env = ppo_util.create_env(env_name)\n",
    "\n",
    "agents = ppo_util.generate_random_human_position(radius=0.3)\n",
    "# agents = ppo_util.generate_human_position()\n",
    "env.set_agents(agents)\n",
    "obs = env.reset()\n",
    "fov_obs = ppo_util.limit_distance_FOV(obs, FOV=180)"
   ]
  },
  {
   "cell_type": "code",
   "execution_count": 2,
   "metadata": {},
   "outputs": [],
   "source": [
    "for _ in range(24):\n",
    "    actions = {}\n",
    "    actions[0] = 2\n",
    "    obs, rewards, game_over, which_agents_done = env.step(actions)\n",
    "    fov_obs = ppo_util.limit_distance_FOV(obs, FOV=180, distance=3)\n",
    "    agents[0].step_num"
   ]
  },
  {
   "cell_type": "code",
   "execution_count": 3,
   "metadata": {},
   "outputs": [
    {
     "data": {
      "image/png": "[encoded data removed]",
      "text/plain": [
       "<Figure size 600x800 with 1 Axes>"
      ]
     },
     "metadata": {},
     "output_type": "display_data"
    }
   ],
   "source": [
    "from visualize_plot import train_plot\n",
    "train_plot(agents,fov=180)"
   ]
  },
  {
   "cell_type": "code",
   "execution_count": 30,
   "metadata": {},
   "outputs": [
    {
     "name": "stdout",
     "output_type": "stream",
     "text": [
      "孔\n"
     ]
    },
    {
     "data": {
      "text/plain": [
       "0"
      ]
     },
     "execution_count": 30,
     "metadata": {},
     "output_type": "execute_result"
    }
   ],
   "source": [
    "import torch\n",
    "s = fov_obs\n",
    "num_agent = int(s[4])\n",
    "robot_features = s[0:7]\n",
    "robot_features = torch.tensor(robot_features, dtype=torch.float32)\n",
    "robot_features = robot_features.unsqueeze(0)     # 扩充维度\n",
    "human_features = []\n",
    "# human_features = s[5:5+7]\n",
    "# for i in range(5+7, num_agent*7, 7):\n",
    "#     human_features = np.vstack((human_features, s[i:i+7]))\n",
    "human_features = torch.tensor(human_features, dtype=float)\n",
    "if human_features.numel():\n",
    "    print(\"this tensor is not empty\")\n",
    "else:\n",
    "    print(\"孔\")\n",
    "    \n",
    "human_features.numel()"
   ]
  },
  {
   "cell_type": "code",
   "execution_count": 12,
   "metadata": {},
   "outputs": [
    {
     "name": "stdout",
     "output_type": "stream",
     "text": [
      "[ 5.915  0.016  1.     0.3    3.     1.743 -1.429 -0.801  0.452  0.3\n",
      "  0.6    1.654  2.842 -0.78  -0.584  0.028  0.3    0.6    2.348  1.598\n",
      "  2.498 -0.227 -0.377  0.3    0.6    2.366  0.     0.     0.     0.   ]\n",
      "[ 1.743 -1.429 -0.801  0.452  0.3    0.6    1.654]\n"
     ]
    }
   ],
   "source": [
    "print(s[0:30])\n",
    "print(human_features)"
   ]
  },
  {
   "cell_type": "code",
   "execution_count": null,
   "metadata": {},
   "outputs": [],
   "source": []
  },
  {
   "cell_type": "code",
   "execution_count": null,
   "metadata": {},
   "outputs": [],
   "source": []
  },
  {
   "cell_type": "code",
   "execution_count": null,
   "metadata": {},
   "outputs": [],
   "source": [
    "env1 = gym.make(\"CollisionAvoidance-v0\")\n",
    "env1.set_agents(agents)\n",
    "obs1 = env1.reset()"
   ]
  },
  {
   "cell_type": "code",
   "execution_count": null,
   "metadata": {},
   "outputs": [],
   "source": []
  },
  {
   "cell_type": "code",
   "execution_count": null,
   "metadata": {},
   "outputs": [],
   "source": []
  },
  {
   "cell_type": "code",
   "execution_count": null,
   "metadata": {},
   "outputs": [],
   "source": [
    "def states_to_graph(s):\n",
    "    # 获取robot 的节点特征\n",
    "    robot_features = s[0:4]\n",
    "    # 获取agent的个数\n",
    "    num_agent = int(s[4])\n",
    "    # 边索引\n",
    "    a = np.zeros(num_agent)\n",
    "    b = np.linspace(1 ,num_agent, num_agent)\n",
    "    a = np.append(a, b)\n",
    "    edge_index = np.vstack((np.append(np.zeros(num_agent), np.linspace(1 ,num_agent, num_agent)),\n",
    "                                np.append(np.linspace(1 ,num_agent, num_agent),np.zeros(num_agent))),\n",
    "                        )\n",
    "    edge_index = torch.tensor(edge_index, dtype=torch.long)\n",
    "    # 节点特征 \n",
    "    node_feature = s[0:4]\n",
    "    for i in range(5, num_agent*7, 7):\n",
    "        node_feature = np.vstack((node_feature, s[i:i+4]))\n",
    "    node_feature = torch.tensor(node_feature, dtype=torch.float)\n",
    "    # 一张图的数据结构\n",
    "    data = Data(x=node_feature, edge_index=edge_index)\n",
    "    return data, robot_features\n",
    "\n",
    "def batch_graph_data(s):\n",
    "    # 变换维度\n",
    "    s = s.reshape(-1, 68)\n",
    "    # 存储批量图数据\n",
    "    data_list = []\n",
    "    robot_features_list = torch.zeros((s.shape[0], 4))\n",
    "    for i in range(s.shape[0]):\n",
    "        data, robot_features = states_to_graph(s[i])\n",
    "        data_list.append(data)\n",
    "        robot_features_list[i:] = robot_features \n",
    "    \n",
    "    loader = DataLoader(dataset=data_list, batch_size=len(data_list), shuffle=False)\n",
    "    batch = next(iter(loader))\n",
    "    return batch, robot_features_list"
   ]
  },
  {
   "cell_type": "code",
   "execution_count": null,
   "metadata": {},
   "outputs": [],
   "source": [
    "s = torch.tensor(obs, dtype=torch.float).unsqueeze(0)\n",
    "a, b = batch_graph_data(s)"
   ]
  },
  {
   "cell_type": "code",
   "execution_count": null,
   "metadata": {},
   "outputs": [],
   "source": [
    "\n"
   ]
  },
  {
   "cell_type": "code",
   "execution_count": null,
   "metadata": {},
   "outputs": [],
   "source": [
    "one_states = s[0,0,:]\n",
    "# 获取robot 的节点特征\n",
    "robot_features = one_states[0:4]\n",
    "# 获取agent的个数\n",
    "num_agent = int(obs[4])\n",
    "# 边索引\n",
    "a = np.zeros(num_agent)\n",
    "b = np.linspace(1 ,num_agent, num_agent)\n",
    "a = np.append(a, b)\n",
    "edge_index = np.vstack((np.append(np.zeros(num_agent), np.linspace(1 ,num_agent, num_agent)),\n",
    "                             np.append(np.linspace(1 ,num_agent, num_agent),np.zeros(num_agent))),\n",
    "                     )\n",
    "edge_index = torch.tensor(edge_index, dtype=torch.long)\n",
    "# 节点特征 \n",
    "node_feature = one_states[0:4]\n",
    "for i in range(5, num_agent*7, 7):\n",
    "    node_feature = np.vstack((node_feature, one_states[i:i+4]))\n",
    "node_feature = torch.tensor(node_feature, dtype=torch.float)"
   ]
  },
  {
   "cell_type": "code",
   "execution_count": null,
   "metadata": {},
   "outputs": [],
   "source": [
    "import networkx as nx\n",
    "from torch_geometric.utils import to_networkx\n",
    "\n",
    "from torch_geometric.data import Data\n",
    "from torch_geometric.loader import DataLoader\n",
    "import torch\n",
    "\n",
    "# 组建数据\n",
    "# 边索引\n",
    "edge_index = torch.tensor([[0, 1],\n",
    "                           [1, 0]], dtype=torch.long)\n",
    "# 节点特征\n",
    "x = torch.tensor([[-1,2,3,4], [0,1,2,3]], dtype=torch.float)\n",
    "# 构建图\n",
    "data1 = Data(x=x, edge_index=edge_index.t().contiguous())"
   ]
  },
  {
   "cell_type": "code",
   "execution_count": null,
   "metadata": {},
   "outputs": [],
   "source": [
    "# 创建图结构数据\n",
    "from torch_geometric.data import Data\n",
    "from torch_geometric.loader import DataLoader\n",
    "import torch\n",
    "# 获取robot 的节点特征\n",
    "obs = torch.tensor(obs, dtype=torch.float32)\n",
    "robot_features = obs[0:4]\n",
    "robot_features = torch.tensor(robot_features, dtype=torch.float)\n",
    "print(robot_features)\n",
    "# 获取agent的个数\n",
    "num_agent = int(obs[4])\n",
    "# 边索引\n",
    "a = np.zeros(num_agent)\n",
    "b = np.linspace(1 ,num_agent, num_agent)\n",
    "a = np.append(a, b)\n",
    "edge_index = np.vstack((np.append(np.zeros(num_agent), np.linspace(1 ,num_agent, num_agent)),\n",
    "                             np.append(np.linspace(1 ,num_agent, num_agent),np.zeros(num_agent))),\n",
    "                     )\n",
    "edge_index = torch.tensor(edge_index, dtype=torch.long)\n",
    "# 节点特征 \n",
    "node_feature = obs[0:4]\n",
    "for i in range(5, num_agent*7, 7):\n",
    "    # node_feature.append(5+i,)\n",
    "    node_feature = np.vstack((node_feature, obs[i:i+4]))\n",
    "node_feature = torch.tensor(node_feature, dtype=torch.float)\n",
    "# 一张图的数据结构\n",
    "data = Data(x=node_feature, edge_index=edge_index)\n",
    "data_list = [data, data1, data]\n",
    "print(data)\n",
    "loader = DataLoader(dataset=data_list, batch_size=3, shuffle=False)\n",
    "print(next(iter(loader)))\n",
    "# for step, a in enumerate(loader):\n",
    "#     print(f\"step:{step}, data:{a}\")"
   ]
  },
  {
   "cell_type": "code",
   "execution_count": null,
   "metadata": {},
   "outputs": [],
   "source": [
    "import networkx as nx\n",
    "from torch_geometric.utils import to_networkx\n",
    "# 可视化\n",
    "g = to_networkx(a)\n",
    "nx.draw(g, with_labels=g.nodes)"
   ]
  },
  {
   "cell_type": "code",
   "execution_count": 39,
   "metadata": {},
   "outputs": [
    {
     "ename": "TypeError",
     "evalue": "'int' object is not callable",
     "output_type": "error",
     "traceback": [
      "\u001b[0;31m---------------------------------------------------------------------------\u001b[0m",
      "\u001b[0;31mTypeError\u001b[0m                                 Traceback (most recent call last)",
      "\u001b[0;32m/tmp/ipykernel_9080/2049436569.py\u001b[0m in \u001b[0;36m<module>\u001b[0;34m\u001b[0m\n\u001b[1;32m      1\u001b[0m \u001b[0ma\u001b[0m \u001b[0;34m=\u001b[0m \u001b[0mnp\u001b[0m\u001b[0;34m.\u001b[0m\u001b[0marange\u001b[0m\u001b[0;34m(\u001b[0m\u001b[0;36m1\u001b[0m\u001b[0;34m+\u001b[0m\u001b[0;36m1\u001b[0m\u001b[0;34m,\u001b[0m\u001b[0;36m2\u001b[0m\u001b[0;34m,\u001b[0m\u001b[0;36m1\u001b[0m\u001b[0;34m)\u001b[0m\u001b[0;34m\u001b[0m\u001b[0;34m\u001b[0m\u001b[0m\n\u001b[0;32m----> 2\u001b[0;31m \u001b[0;32mif\u001b[0m \u001b[0ma\u001b[0m\u001b[0;34m.\u001b[0m\u001b[0msize\u001b[0m\u001b[0;34m(\u001b[0m\u001b[0;34m)\u001b[0m\u001b[0;34m:\u001b[0m\u001b[0;34m\u001b[0m\u001b[0;34m\u001b[0m\u001b[0m\n\u001b[0m\u001b[1;32m      3\u001b[0m     \u001b[0mprint\u001b[0m\u001b[0;34m(\u001b[0m\u001b[0;34m\"bukong\"\u001b[0m\u001b[0;34m)\u001b[0m\u001b[0;34m\u001b[0m\u001b[0;34m\u001b[0m\u001b[0m\n\u001b[1;32m      4\u001b[0m \u001b[0;32melse\u001b[0m\u001b[0;34m:\u001b[0m\u001b[0;34m\u001b[0m\u001b[0;34m\u001b[0m\u001b[0m\n\u001b[1;32m      5\u001b[0m     \u001b[0mprint\u001b[0m\u001b[0;34m(\u001b[0m\u001b[0;34m\"空\"\u001b[0m\u001b[0;34m)\u001b[0m\u001b[0;34m\u001b[0m\u001b[0;34m\u001b[0m\u001b[0m\n",
      "\u001b[0;31mTypeError\u001b[0m: 'int' object is not callable"
     ]
    }
   ],
   "source": [
    "a = np.arange(1+1,2,1)\n",
    "if a.size:\n",
    "    print(\"bukong\")\n",
    "else:\n",
    "    print(\"空\")"
   ]
  },
  {
   "cell_type": "code",
   "execution_count": null,
   "metadata": {},
   "outputs": [],
   "source": [
    "import numpy as np\n",
    "import torch\n",
    "import torch.nn as nn\n",
    "import torch.nn.functional as F\n",
    "from torch_geometric.nn import GATConv\n",
    "\n",
    "# GAT Layer\n",
    "class GATLayer(nn.Module):\n",
    "    \"\"\"\n",
    "    Simple PyTorch Implementation of the Graph Attention layer.\n",
    "    \"\"\"\n",
    "    def __init__(self, in_features, out_features, dropout, alpha, concat=True):\n",
    "        super(GATLayer, self).__init__()\n",
    "        self.dropout       = dropout        # drop prob = 0.6\n",
    "        self.in_features   = in_features    # \n",
    "        self.out_features  = out_features   # \n",
    "        self.alpha         = alpha          # LeakyReLU with negative input slope, alpha = 0.2\n",
    "        self.concat        = concat         # conacat = True for all layers except the output layer.\n",
    "\n",
    "        # Xavier Initialization of Weights\n",
    "        # W , a 学习参数\n",
    "        self.W = nn.Parameter(torch.zeros(size=(in_features, out_features)))\n",
    "        nn.init.xavier_uniform_(self.W.data, gain=1.414)\n",
    "        self.a = nn.Parameter(torch.zeros(size=(2*out_features, 1)))\n",
    "        nn.init.xavier_uniform_(self.a.data, gain=1.414)\n",
    "        \n",
    "        # 激活函数：LeakyReLU\n",
    "        self.leakyrelu = nn.LeakyReLU(self.alpha)\n",
    "\n",
    "    def forward(self, input, adj):\n",
    "        # 线性变换\n",
    "        h = torch.mm(input, self.W)\n",
    "        N = h.size()[0]\n",
    "\n",
    "        # Attention Mechanism\n",
    "        a_input = torch.cat([h.repeat(1, N).view(N * N, -1), h.repeat(N, 1)], dim=1).view(N, -1, 2 * self.out_features)\n",
    "        e       = self.leakyrelu(torch.matmul(a_input, self.a).squeeze(2))\n",
    "\n",
    "        # Masked Attention\n",
    "        zero_vec  = -9e15*torch.ones_like(e)\n",
    "        attention = torch.where(adj > 0, e, zero_vec)\n",
    "        \n",
    "        attention = F.softmax(attention, dim=1)\n",
    "        attention = F.dropout(attention, self.dropout, training=self.training)\n",
    "        h_prime   = torch.matmul(attention, h)\n",
    "\n",
    "        if self.concat:\n",
    "            return F.elu(h_prime)\n",
    "        else:\n",
    "            return h_prime\n",
    "\n",
    "# model\n",
    "class GAT(torch.nn.Module):\n",
    "    def __init__(self):\n",
    "        super(GAT, self).__init__()\n",
    "        self.input_features = 4                 # 输入特征维度\n",
    "        self.hid = 16                           # 隐藏层的维度\n",
    "        self.in_head = 6                        # 注意力头数\n",
    "        self.output_features = 32               # 输出特征维度\n",
    "        self.out_head = 1\n",
    "        self.fc1_hidden = 64\n",
    "        self.rnn_hidden_dim = 64\n",
    "        self.action_dim = 13\n",
    "        self.actor_rnn_hidden = None\n",
    "        self.critic_rnn_hidden = None\n",
    "        self.activate_func = nn.Tanh()\n",
    "\n",
    "        # actor\n",
    "        # GAT\n",
    "        self.actor_conv1 = GATConv(self.input_features, self.hid, heads=self.in_head, dropout=0.6)\n",
    "        self.actor_conv2 = GATConv(self.hid*self.in_head, self.output_features, concat=False,\n",
    "                             heads=self.out_head, dropout=0.6)\n",
    "        # GRU\n",
    "        self.actor_fc1 = nn.Linear(self.output_features + 4 ,self.fc1_hidden)\n",
    "        self.actor_rnn = nn.GRU(self.fc1_hidden, self.rnn_hidden_dim, batch_first=True)\n",
    "        self.actor_fc2 = nn.Linear(self.rnn_hidden_dim, 13)\n",
    "\n",
    "    def forward(self, data, robot_features):\n",
    "        x, edge_index = data.x, data.edge_index\n",
    "        # robot 节点索引\n",
    "        robot_index = data.ptr[:-1]\n",
    "        x = self.actor_conv1(x, edge_index) \n",
    "        # x = F.tanh(x)\n",
    "        x = self.activate_func(x)\n",
    "        x = self.actor_conv2(x, edge_index)\n",
    "        # 提取 GAT 后 robot 的特征\n",
    "        x = torch.index_select(x, 0, robot_index)\n",
    "        # 拼接robot的特征\n",
    "        x = torch.cat((x, robot_features),dim=1)\n",
    "        # GRU\n",
    "        x = self.actor_fc1(x)\n",
    "        x = self.activate_func(x)\n",
    "        x, self.actor_rnn_hidden = self.actor_rnn(x, self.actor_rnn_hidden)\n",
    "        logit = self.actor_fc2(x)\n",
    "        return logit\n",
    "\n",
    "        \n",
    "        # return F.log_softmax(x, dim=1)"
   ]
  },
  {
   "cell_type": "code",
   "execution_count": 2,
   "metadata": {},
   "outputs": [],
   "source": [
    "import networkx as nx\n",
    "import numpy as np\n",
    "from torch_geometric.utils import to_networkx\n",
    "\n",
    "from torch_geometric.data import Data\n",
    "from torch_geometric.loader import DataLoader\n",
    "import torch\n",
    "from torch.distributions import Categorical\n",
    "\n",
    "# 模拟数据：2*100*dim\n",
    "s = np.zeros((2, 100, 110))\n",
    "shape = s.shape\n",
    "a = s.reshape(-1, shape[2])\n",
    "# robot_features = s[:,:,0:4]\n",
    "# human_features = s[:,:,5:int(s[:,:,4])*7+5]\n",
    "# # dim = human_features.shape\n",
    "# print(dim)\n",
    "\n"
   ]
  },
  {
   "cell_type": "code",
   "execution_count": 3,
   "metadata": {},
   "outputs": [],
   "source": [
    "num_agent = 1\n",
    "# a = np.zeros(num_agent)\n",
    "# b = np.linspace(1 ,num_agent, num_agent)\n",
    "# a = np.append(a, b)\n",
    "edge_index = np.vstack((np.append(np.zeros(num_agent), np.linspace(1 ,num_agent, num_agent)),\n",
    "                            np.append(np.linspace(1 ,num_agent, num_agent),np.zeros(num_agent))),\n",
    "                    )\n",
    "edge_index = torch.tensor(edge_index, dtype=torch.long)"
   ]
  },
  {
   "cell_type": "code",
   "execution_count": 14,
   "metadata": {},
   "outputs": [
    {
     "data": {
      "text/plain": [
       "(2, 1)"
      ]
     },
     "execution_count": 14,
     "metadata": {},
     "output_type": "execute_result"
    }
   ],
   "source": [
    "np.array([[0],[0]]).shape"
   ]
  },
  {
   "cell_type": "code",
   "execution_count": null,
   "metadata": {},
   "outputs": [],
   "source": [
    "# for i in range(2):\n",
    "#     for j in range(100):\n",
    "#         s[i,j,:] = env.reset()\n",
    "# s = torch.tensor(s, dtype=torch.float)\n",
    "\n",
    "# s = torch.tensor(env.reset(), dtype=torch.float)\n",
    "# batch_graph, robot_features = batch_graph_data(s)\n",
    "# print(s.shape)\n",
    "# print(batch_graph)\n",
    "\n",
    "# model = GAT()\n",
    "# print(model)\n",
    "# model.train()\n",
    "# out = model(batch_graph, robot_features)\n",
    "# print(out.shape)\n",
    "# dist = Categorical(logits=out)\n",
    "# a = dist.sample()\n",
    "# a_logprob = dist.log_prob(a)\n",
    "# print(a.item(),a_logprob.item())\n",
    "out1 = out.reshape(2,-1,12)\n",
    "print(out1.shape)"
   ]
  },
  {
   "cell_type": "code",
   "execution_count": null,
   "metadata": {},
   "outputs": [],
   "source": [
    "import torch\n",
    "n = torch.randn([6,4])\n",
    "p = torch.ones(n.shape[0])\n",
    "p = p.unsqueeze(1)\n",
    "print(n)\n",
    "print(p)\n",
    "n = torch.cat((n,p),1)\n",
    "print(n)\n"
   ]
  },
  {
   "cell_type": "code",
   "execution_count": null,
   "metadata": {},
   "outputs": [],
   "source": [
    "# example\n",
    "import torch\n",
    "from torch_geometric.datasets import TUDataset\n",
    "from torch_geometric.loader import DataLoader\n",
    "dataset = TUDataset('data/TUDataset', name = 'MUTAG')\n",
    "\n",
    "\n",
    "print(dataset[0])\n",
    "\n",
    "train_dataset = [dataset[0], dataset[0]]\n",
    "\n",
    "train_loader = DataLoader(train_dataset, batch_size=2, shuffle=False)\n",
    "batch = next(iter(train_loader))\n",
    "print(batch)"
   ]
  },
  {
   "cell_type": "code",
   "execution_count": null,
   "metadata": {},
   "outputs": [],
   "source": [
    "dataset.num_features"
   ]
  },
  {
   "cell_type": "code",
   "execution_count": null,
   "metadata": {},
   "outputs": [],
   "source": [
    "obs[1]"
   ]
  },
  {
   "cell_type": "code",
   "execution_count": null,
   "metadata": {},
   "outputs": [],
   "source": [
    "from gym_collision_avoidance.envs import Config\n",
    "from gym_collision_avoidance.envs.wrappers import FlattenDictWrapper\n",
    "env_one = FlattenDictWrapper(env, dict_keys=Config.STATES_IN_OBS)\n",
    "obs_one = env_one.reset()"
   ]
  },
  {
   "cell_type": "code",
   "execution_count": null,
   "metadata": {},
   "outputs": [],
   "source": [
    "from torch.utils.data.sampler import BatchSampler, SubsetRandomSampler, SequentialSampler\n",
    "batch_size = 16\n",
    "mini_batch_size = 2\n",
    "for index in BatchSampler(SequentialSampler(range(batch_size)), mini_batch_size, False):\n",
    "    print(index)\n",
    "\n"
   ]
  },
  {
   "cell_type": "code",
   "execution_count": null,
   "metadata": {},
   "outputs": [],
   "source": [
    "b = buffer['s'][index]\n",
    "b.shape"
   ]
  },
  {
   "cell_type": "code",
   "execution_count": null,
   "metadata": {},
   "outputs": [],
   "source": [
    "from torch_geometric.loader import DataLoader\n",
    "from torch_geometric.datasets import TUDataset\n",
    "# 数据集\n",
    "dataset = TUDataset(\n",
    "    root='../data/ENZYMES',\n",
    "    name='ENZYMES',\n",
    "    use_node_attr=True,\n",
    ")\n",
    "# 建立数据集加载器\n",
    "# 每次加载32个数据到内存中\n",
    "loader = DataLoader(\n",
    "    # 要加载的数据集\n",
    "    dataset=dataset,\n",
    "    # ENZYMES包含600个图\n",
    "    # 每次加载32个\n",
    "    batch_size=32,\n",
    "    # 每次加入进来之后是否随机打乱数据（可以增加模型的泛化性）\n",
    "    shuffle=True\n",
    ")\n",
    "for batch in loader:\n",
    "    # print(batch)\n",
    "    print(batch.num_graphs)"
   ]
  }
 ],
 "metadata": {
  "interpreter": {
   "hash": "4355cb3767e2eef021314e92b94ce600a9307d8313c591c42dad1888320a8d96"
  },
  "kernelspec": {
   "display_name": "Python 3.7.13 ('robot')",
   "language": "python",
   "name": "python3"
  },
  "language_info": {
   "codemirror_mode": {
    "name": "ipython",
    "version": 3
   },
   "file_extension": ".py",
   "mimetype": "text/x-python",
   "name": "python",
   "nbconvert_exporter": "python",
   "pygments_lexer": "ipython3",
   "version": "3.7.13"
  },
  "orig_nbformat": 4
 },
 "nbformat": 4,
 "nbformat_minor": 2
}
