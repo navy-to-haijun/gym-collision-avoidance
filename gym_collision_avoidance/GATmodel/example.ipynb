{
 "cells": [
  {
   "cell_type": "code",
   "execution_count": 1,
   "metadata": {},
   "outputs": [],
   "source": [
    "import os\n",
    "import gym\n",
    "import numpy as np\n",
    "# 仿真环境\n",
    "os.environ['GYM_CONFIG_PATH'] = \"emulation_config.py\"\n",
    "os.environ['GYM_CONFIG_CLASS'] = 'Train'\n",
    "gym.logger.set_level(40)\n",
    "import ppo_util\n",
    "\n",
    "env_name = \"CollisionAvoidance-v0\"\n",
    "env = ppo_util.create_env(env_name)\n",
    "\n",
    "agents = ppo_util.generate_human_position()\n",
    "env.set_agents(agents)\n",
    "obs = env.reset()"
   ]
  },
  {
   "cell_type": "code",
   "execution_count": 2,
   "metadata": {},
   "outputs": [],
   "source": [
    "def states_to_graph(s):\n",
    "    # 获取robot 的节点特征\n",
    "    robot_features = s[0:4]\n",
    "    # 获取agent的个数\n",
    "    num_agent = int(s[4])\n",
    "    # 边索引\n",
    "    a = np.zeros(num_agent)\n",
    "    b = np.linspace(1 ,num_agent, num_agent)\n",
    "    a = np.append(a, b)\n",
    "    edge_index = np.vstack((np.append(np.zeros(num_agent), np.linspace(1 ,num_agent, num_agent)),\n",
    "                                np.append(np.linspace(1 ,num_agent, num_agent),np.zeros(num_agent))),\n",
    "                        )\n",
    "    edge_index = torch.tensor(edge_index, dtype=torch.long)\n",
    "    # 节点特征 \n",
    "    node_feature = s[0:4]\n",
    "    for i in range(5, num_agent*7, 7):\n",
    "        node_feature = np.vstack((node_feature, s[i:i+4]))\n",
    "    node_feature = torch.tensor(node_feature, dtype=torch.float)\n",
    "    # 一张图的数据结构\n",
    "    data = Data(x=node_feature, edge_index=edge_index)\n",
    "    return data, robot_features\n",
    "\n",
    "def batch_graph_data(s):\n",
    "    # 变换维度\n",
    "    s = s.reshape(-1, 68)\n",
    "    # 存储批量图数据\n",
    "    data_list = []\n",
    "    robot_features_list = torch.zeros((s.shape[0], 4))\n",
    "    for i in range(s.shape[0]):\n",
    "        data, robot_features = states_to_graph(s[i])\n",
    "        data_list.append(data)\n",
    "        robot_features_list[i:] = robot_features \n",
    "    \n",
    "    loader = DataLoader(dataset=data_list, batch_size=len(data_list), shuffle=False)\n",
    "    batch = next(iter(loader))\n",
    "    return batch, robot_features_list"
   ]
  },
  {
   "cell_type": "code",
   "execution_count": 14,
   "metadata": {},
   "outputs": [],
   "source": [
    "s = torch.tensor(obs, dtype=torch.float).unsqueeze(0)\n",
    "a, b = batch_graph_data(s)"
   ]
  },
  {
   "cell_type": "code",
   "execution_count": 3,
   "metadata": {},
   "outputs": [],
   "source": [
    "\n"
   ]
  },
  {
   "cell_type": "code",
   "execution_count": null,
   "metadata": {},
   "outputs": [],
   "source": [
    "one_states = s[0,0,:]\n",
    "# 获取robot 的节点特征\n",
    "robot_features = one_states[0:4]\n",
    "# 获取agent的个数\n",
    "num_agent = int(obs[4])\n",
    "# 边索引\n",
    "a = np.zeros(num_agent)\n",
    "b = np.linspace(1 ,num_agent, num_agent)\n",
    "a = np.append(a, b)\n",
    "edge_index = np.vstack((np.append(np.zeros(num_agent), np.linspace(1 ,num_agent, num_agent)),\n",
    "                             np.append(np.linspace(1 ,num_agent, num_agent),np.zeros(num_agent))),\n",
    "                     )\n",
    "edge_index = torch.tensor(edge_index, dtype=torch.long)\n",
    "# 节点特征 \n",
    "node_feature = one_states[0:4]\n",
    "for i in range(5, num_agent*7, 7):\n",
    "    node_feature = np.vstack((node_feature, one_states[i:i+4]))\n",
    "node_feature = torch.tensor(node_feature, dtype=torch.float)"
   ]
  },
  {
   "cell_type": "code",
   "execution_count": null,
   "metadata": {},
   "outputs": [],
   "source": [
    "import networkx as nx\n",
    "from torch_geometric.utils import to_networkx\n",
    "\n",
    "from torch_geometric.data import Data\n",
    "from torch_geometric.loader import DataLoader\n",
    "import torch\n",
    "\n",
    "# 组建数据\n",
    "# 边索引\n",
    "edge_index = torch.tensor([[0, 1],\n",
    "                           [1, 0]], dtype=torch.long)\n",
    "# 节点特征\n",
    "x = torch.tensor([[-1,2,3,4], [0,1,2,3]], dtype=torch.float)\n",
    "# 构建图\n",
    "data1 = Data(x=x, edge_index=edge_index.t().contiguous())"
   ]
  },
  {
   "cell_type": "code",
   "execution_count": null,
   "metadata": {},
   "outputs": [],
   "source": [
    "# 创建图结构数据\n",
    "from torch_geometric.data import Data\n",
    "from torch_geometric.loader import DataLoader\n",
    "import torch\n",
    "# 获取robot 的节点特征\n",
    "obs = torch.tensor(obs, dtype=torch.float32)\n",
    "robot_features = obs[0:4]\n",
    "robot_features = torch.tensor(robot_features, dtype=torch.float)\n",
    "print(robot_features)\n",
    "# 获取agent的个数\n",
    "num_agent = int(obs[4])\n",
    "# 边索引\n",
    "a = np.zeros(num_agent)\n",
    "b = np.linspace(1 ,num_agent, num_agent)\n",
    "a = np.append(a, b)\n",
    "edge_index = np.vstack((np.append(np.zeros(num_agent), np.linspace(1 ,num_agent, num_agent)),\n",
    "                             np.append(np.linspace(1 ,num_agent, num_agent),np.zeros(num_agent))),\n",
    "                     )\n",
    "edge_index = torch.tensor(edge_index, dtype=torch.long)\n",
    "# 节点特征 \n",
    "node_feature = obs[0:4]\n",
    "for i in range(5, num_agent*7, 7):\n",
    "    # node_feature.append(5+i,)\n",
    "    node_feature = np.vstack((node_feature, obs[i:i+4]))\n",
    "node_feature = torch.tensor(node_feature, dtype=torch.float)\n",
    "# 一张图的数据结构\n",
    "data = Data(x=node_feature, edge_index=edge_index)\n",
    "data_list = [data, data1, data]\n",
    "print(data)\n",
    "loader = DataLoader(dataset=data_list, batch_size=3, shuffle=False)\n",
    "print(next(iter(loader)))\n",
    "# for step, a in enumerate(loader):\n",
    "#     print(f\"step:{step}, data:{a}\")"
   ]
  },
  {
   "cell_type": "code",
   "execution_count": null,
   "metadata": {},
   "outputs": [],
   "source": [
    "import networkx as nx\n",
    "from torch_geometric.utils import to_networkx\n",
    "# 可视化\n",
    "g = to_networkx(a)\n",
    "nx.draw(g, with_labels=g.nodes)"
   ]
  },
  {
   "cell_type": "code",
   "execution_count": 3,
   "metadata": {},
   "outputs": [],
   "source": [
    "import numpy as np\n",
    "import torch\n",
    "import torch.nn as nn\n",
    "import torch.nn.functional as F\n",
    "from torch_geometric.nn import GATConv\n",
    "\n",
    "# GAT Layer\n",
    "class GATLayer(nn.Module):\n",
    "    \"\"\"\n",
    "    Simple PyTorch Implementation of the Graph Attention layer.\n",
    "    \"\"\"\n",
    "    def __init__(self, in_features, out_features, dropout, alpha, concat=True):\n",
    "        super(GATLayer, self).__init__()\n",
    "        self.dropout       = dropout        # drop prob = 0.6\n",
    "        self.in_features   = in_features    # \n",
    "        self.out_features  = out_features   # \n",
    "        self.alpha         = alpha          # LeakyReLU with negative input slope, alpha = 0.2\n",
    "        self.concat        = concat         # conacat = True for all layers except the output layer.\n",
    "\n",
    "        # Xavier Initialization of Weights\n",
    "        # W , a 学习参数\n",
    "        self.W = nn.Parameter(torch.zeros(size=(in_features, out_features)))\n",
    "        nn.init.xavier_uniform_(self.W.data, gain=1.414)\n",
    "        self.a = nn.Parameter(torch.zeros(size=(2*out_features, 1)))\n",
    "        nn.init.xavier_uniform_(self.a.data, gain=1.414)\n",
    "        \n",
    "        # 激活函数：LeakyReLU\n",
    "        self.leakyrelu = nn.LeakyReLU(self.alpha)\n",
    "\n",
    "    def forward(self, input, adj):\n",
    "        # 线性变换\n",
    "        h = torch.mm(input, self.W)\n",
    "        N = h.size()[0]\n",
    "\n",
    "        # Attention Mechanism\n",
    "        a_input = torch.cat([h.repeat(1, N).view(N * N, -1), h.repeat(N, 1)], dim=1).view(N, -1, 2 * self.out_features)\n",
    "        e       = self.leakyrelu(torch.matmul(a_input, self.a).squeeze(2))\n",
    "\n",
    "        # Masked Attention\n",
    "        zero_vec  = -9e15*torch.ones_like(e)\n",
    "        attention = torch.where(adj > 0, e, zero_vec)\n",
    "        \n",
    "        attention = F.softmax(attention, dim=1)\n",
    "        attention = F.dropout(attention, self.dropout, training=self.training)\n",
    "        h_prime   = torch.matmul(attention, h)\n",
    "\n",
    "        if self.concat:\n",
    "            return F.elu(h_prime)\n",
    "        else:\n",
    "            return h_prime\n",
    "\n",
    "# model\n",
    "class GAT(torch.nn.Module):\n",
    "    def __init__(self):\n",
    "        super(GAT, self).__init__()\n",
    "        self.input_features = 4                 # 输入特征维度\n",
    "        self.hid = 16                           # 隐藏层的维度\n",
    "        self.in_head = 6                        # 注意力头数\n",
    "        self.output_features = 32               # 输出特征维度\n",
    "        self.out_head = 1\n",
    "        self.fc1_hidden = 64\n",
    "        self.rnn_hidden_dim = 64\n",
    "        self.action_dim = 13\n",
    "        self.actor_rnn_hidden = None\n",
    "        self.critic_rnn_hidden = None\n",
    "        self.activate_func = nn.Tanh()\n",
    "\n",
    "        # actor\n",
    "        # GAT\n",
    "        self.actor_conv1 = GATConv(self.input_features, self.hid, heads=self.in_head, dropout=0.6)\n",
    "        self.actor_conv2 = GATConv(self.hid*self.in_head, self.output_features, concat=False,\n",
    "                             heads=self.out_head, dropout=0.6)\n",
    "        # GRU\n",
    "        self.actor_fc1 = nn.Linear(self.output_features + 4 ,self.fc1_hidden)\n",
    "        self.actor_rnn = nn.GRU(self.fc1_hidden, self.rnn_hidden_dim, batch_first=True)\n",
    "        self.actor_fc2 = nn.Linear(self.rnn_hidden_dim, 13)\n",
    "\n",
    "    def forward(self, data, robot_features):\n",
    "        x, edge_index = data.x, data.edge_index\n",
    "        # robot 节点索引\n",
    "        robot_index = data.ptr[:-1]\n",
    "        x = self.actor_conv1(x, edge_index) \n",
    "        # x = F.tanh(x)\n",
    "        x = self.activate_func(x)\n",
    "        x = self.actor_conv2(x, edge_index)\n",
    "        # 提取 GAT 后 robot 的特征\n",
    "        x = torch.index_select(x, 0, robot_index)\n",
    "        # 拼接robot的特征\n",
    "        x = torch.cat((x, robot_features),dim=1)\n",
    "        # GRU\n",
    "        x = self.actor_fc1(x)\n",
    "        x = self.activate_func(x)\n",
    "        x, self.actor_rnn_hidden = self.actor_rnn(x, self.actor_rnn_hidden)\n",
    "        logit = self.actor_fc2(x)\n",
    "        return logit\n",
    "\n",
    "        \n",
    "        # return F.log_softmax(x, dim=1)"
   ]
  },
  {
   "cell_type": "code",
   "execution_count": 4,
   "metadata": {},
   "outputs": [
    {
     "name": "stdout",
     "output_type": "stream",
     "text": [
      "torch.Size([68])\n",
      "DataBatch(x=[3, 4], edge_index=[2, 4], batch=[3], ptr=[2])\n"
     ]
    }
   ],
   "source": [
    "import networkx as nx\n",
    "from torch_geometric.utils import to_networkx\n",
    "\n",
    "from torch_geometric.data import Data\n",
    "from torch_geometric.loader import DataLoader\n",
    "import torch\n",
    "from torch.distributions import Categorical\n",
    "\n",
    "# 模拟数据：2*100*dim\n",
    "s = np.zeros((2, 100, 68))\n",
    "\n",
    "for i in range(2):\n",
    "    for j in range(100):\n",
    "        s[i,j,:] = env.reset()\n",
    "s = torch.tensor(s, dtype=torch.float)\n",
    "\n",
    "s = torch.tensor(env.reset(), dtype=torch.float)\n",
    "batch_graph, robot_features = batch_graph_data(s)\n",
    "print(s.shape)\n",
    "print(batch_graph)\n",
    "\n",
    "# model = GAT()\n",
    "# print(model)\n",
    "# model.train()\n",
    "# out = model(batch_graph, robot_features)\n",
    "# print(out.shape)\n",
    "# dist = Categorical(logits=out)\n",
    "# a = dist.sample()\n",
    "# a_logprob = dist.log_prob(a)\n",
    "# print(a.item(),a_logprob.item())"
   ]
  },
  {
   "cell_type": "code",
   "execution_count": 11,
   "metadata": {},
   "outputs": [
    {
     "name": "stdout",
     "output_type": "stream",
     "text": [
      "torch.Size([2, 100, 12])\n"
     ]
    }
   ],
   "source": [
    "out1 = out.reshape(2,-1,12)\n",
    "print(out1.shape)"
   ]
  },
  {
   "cell_type": "code",
   "execution_count": null,
   "metadata": {},
   "outputs": [],
   "source": [
    "import torch\n",
    "n = torch.randn([6,4])\n",
    "p = torch.ones(n.shape[0])\n",
    "p = p.unsqueeze(1)\n",
    "print(n)\n",
    "print(p)\n",
    "n = torch.cat((n,p),1)\n",
    "print(n)\n"
   ]
  },
  {
   "cell_type": "code",
   "execution_count": null,
   "metadata": {},
   "outputs": [],
   "source": [
    "# example\n",
    "import torch\n",
    "from torch_geometric.datasets import TUDataset\n",
    "from torch_geometric.loader import DataLoader\n",
    "dataset = TUDataset('data/TUDataset', name = 'MUTAG')\n",
    "\n",
    "\n",
    "print(dataset[0])\n",
    "\n",
    "train_dataset = [dataset[0], dataset[0]]\n",
    "\n",
    "train_loader = DataLoader(train_dataset, batch_size=2, shuffle=False)\n",
    "batch = next(iter(train_loader))\n",
    "print(batch)"
   ]
  },
  {
   "cell_type": "code",
   "execution_count": null,
   "metadata": {},
   "outputs": [],
   "source": [
    "dataset.num_features"
   ]
  },
  {
   "cell_type": "code",
   "execution_count": null,
   "metadata": {},
   "outputs": [],
   "source": [
    "obs[1]"
   ]
  },
  {
   "cell_type": "code",
   "execution_count": null,
   "metadata": {},
   "outputs": [],
   "source": [
    "from gym_collision_avoidance.envs import Config\n",
    "from gym_collision_avoidance.envs.wrappers import FlattenDictWrapper\n",
    "env_one = FlattenDictWrapper(env, dict_keys=Config.STATES_IN_OBS)\n",
    "obs_one = env_one.reset()"
   ]
  },
  {
   "cell_type": "code",
   "execution_count": null,
   "metadata": {},
   "outputs": [],
   "source": [
    "from torch.utils.data.sampler import BatchSampler, SubsetRandomSampler, SequentialSampler\n",
    "batch_size = 16\n",
    "mini_batch_size = 2\n",
    "for index in BatchSampler(SequentialSampler(range(batch_size)), mini_batch_size, False):\n",
    "    print(index)\n",
    "\n"
   ]
  },
  {
   "cell_type": "code",
   "execution_count": null,
   "metadata": {},
   "outputs": [],
   "source": [
    "b = buffer['s'][index]\n",
    "b.shape"
   ]
  },
  {
   "cell_type": "code",
   "execution_count": null,
   "metadata": {},
   "outputs": [],
   "source": [
    "from torch_geometric.loader import DataLoader\n",
    "from torch_geometric.datasets import TUDataset\n",
    "# 数据集\n",
    "dataset = TUDataset(\n",
    "    root='../data/ENZYMES',\n",
    "    name='ENZYMES',\n",
    "    use_node_attr=True,\n",
    ")\n",
    "# 建立数据集加载器\n",
    "# 每次加载32个数据到内存中\n",
    "loader = DataLoader(\n",
    "    # 要加载的数据集\n",
    "    dataset=dataset,\n",
    "    # ENZYMES包含600个图\n",
    "    # 每次加载32个\n",
    "    batch_size=32,\n",
    "    # 每次加入进来之后是否随机打乱数据（可以增加模型的泛化性）\n",
    "    shuffle=True\n",
    ")\n",
    "for batch in loader:\n",
    "    # print(batch)\n",
    "    print(batch.num_graphs)"
   ]
  }
 ],
 "metadata": {
  "interpreter": {
   "hash": "4355cb3767e2eef021314e92b94ce600a9307d8313c591c42dad1888320a8d96"
  },
  "kernelspec": {
   "display_name": "Python 3.7.13 ('robot')",
   "language": "python",
   "name": "python3"
  },
  "language_info": {
   "codemirror_mode": {
    "name": "ipython",
    "version": 3
   },
   "file_extension": ".py",
   "mimetype": "text/x-python",
   "name": "python",
   "nbconvert_exporter": "python",
   "pygments_lexer": "ipython3",
   "version": "3.7.13"
  },
  "orig_nbformat": 4
 },
 "nbformat": 4,
 "nbformat_minor": 2
}
